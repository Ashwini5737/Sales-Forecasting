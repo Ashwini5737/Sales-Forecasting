{
  "cells": [
    {
      "cell_type": "markdown",
      "metadata": {
        "id": "view-in-github",
        "colab_type": "text"
      },
      "source": [
        "<a href=\"https://colab.research.google.com/github/Ashwini5737/Sales-Forecasting/blob/main/R_Project.ipynb\" target=\"_parent\"><img src=\"https://colab.research.google.com/assets/colab-badge.svg\" alt=\"Open In Colab\"/></a>"
      ]
    },
    {
      "cell_type": "markdown",
      "metadata": {
        "id": "-GSfDVE0LLdF"
      },
      "source": [
        "**Store Sales Forecasting Data Overview**\n",
        "\n",
        "  In this dataset, you will predict sales for various product families sold at Favorita stores in Ecuador. The training data includes dates, store and product information, promotions, and sales figures. Several supplementary files provide additional context to enhance model building.\n",
        "\n",
        "  **Dataset Files and Descriptions:**\n",
        "\n",
        "  *train.csv:* Contains time series data with the following fields:\n",
        "\n",
        "  *store_nbr:* Identifier for the store.\n",
        "\n",
        "  *family:* Type of product sold.\n",
        "\n",
        "  *sales:* Total sales for a product family at a store on a given date, including fractional values.\n",
        "\n",
        "  *onpromotion:* Number of items in a product family that were on promotion.\n",
        "\n",
        "  *stores.csv:* Metadata about stores, including city, state, type, and cluster.\n",
        "\n",
        "  *oil.csv:* Daily oil prices, significant due to Ecuador's dependency on oil.\n",
        "\n",
        "  *holidays_events.csv:* Information on holidays and events, including:\n",
        "\n",
        "\n",
        "  *   transferred: Indicates if a holiday was officially moved to another date.\n",
        "  *   Types of days include Bridge (extra day off) and Work Day (compensatory working day).\n",
        "  *   Additional holidays for events like Christmas."
      ]
    },
    {
      "cell_type": "markdown",
      "metadata": {
        "id": "bMARK5sLI42i"
      },
      "source": [
        "**Set the computational backend engine for deep learning to Theano in R.**"
      ]
    },
    {
      "cell_type": "code",
      "execution_count": null,
      "metadata": {
        "id": "ouhwLQ3qFyfF"
      },
      "outputs": [],
      "source": [
        "backend_engine <- \"theano\"  # Change this to \"theano\" or \"cntk\" if desired"
      ]
    },
    {
      "cell_type": "markdown",
      "metadata": {
        "id": "LzrwESJbJTJ7"
      },
      "source": [
        "**Install and load required packages, and set Keras backend to Theano.**\n"
      ]
    },
    {
      "cell_type": "code",
      "execution_count": null,
      "metadata": {
        "colab": {
          "base_uri": "https://localhost:8080/"
        },
        "id": "GBvQHlN4PUyj",
        "outputId": "82acbcdd-db78-4557-a48c-739d81fd740e"
      },
      "outputs": [
        {
          "output_type": "stream",
          "name": "stderr",
          "text": [
            "Loading required package: e1071\n",
            "\n",
            "Loading required package: randomForest\n",
            "\n",
            "randomForest 4.7-1.2\n",
            "\n",
            "Type rfNews() to see new features/changes/bug fixes.\n",
            "\n",
            "\n",
            "Attaching package: ‘randomForest’\n",
            "\n",
            "\n",
            "The following object is masked from ‘package:ranger’:\n",
            "\n",
            "    importance\n",
            "\n",
            "\n",
            "Loading required package: forecast\n",
            "\n",
            "Registered S3 method overwritten by 'quantmod':\n",
            "  method            from\n",
            "  as.zoo.data.frame zoo \n",
            "\n",
            "Installing package into ‘/usr/local/lib/R/site-library’\n",
            "(as ‘lib’ is unspecified)\n",
            "\n",
            "Loading required package: keras\n",
            "\n",
            "Loading required package: tensorflow\n",
            "\n",
            "Loading required package: xgboost\n",
            "\n",
            "Loading required package: DataExplorer\n",
            "\n",
            "Loading required package: mlflow\n",
            "\n",
            "Loading required package: mlr3\n",
            "\n"
          ]
        }
      ],
      "source": [
        "if (!require(e1071)) {\n",
        "  install.packages(\"e1071\")\n",
        "}\n",
        "if (!require(randomForest)){\n",
        "  install.packages('randomForest')\n",
        "}\n",
        "if(!require(forecast)){\n",
        "  install.packages('forecast')\n",
        "}\n",
        "\n",
        "install.packages(\"reticulate\")\n",
        "if(!require(keras)){\n",
        "  install.packages('keras')\n",
        "}\n",
        "if(!require(tensorflow)){\n",
        "  install.packages('tensorflow')\n",
        "}\n",
        "\n",
        "if(!require(xgboost)){\n",
        "  install.packages('xgboost')\n",
        "}\n",
        "\n",
        "if(!require(DataExplorer)){\n",
        "  install.packages(\"DataExplorer\")\n",
        "}\n",
        "\n",
        "if(!require(mlflow)){\n",
        "  install.packages(\"mlflow\")\n",
        "}\n",
        "\n",
        "if(!require(mlr3)){\n",
        "  install.packages(\"mlr3\")\n",
        "}"
      ]
    },
    {
      "cell_type": "code",
      "execution_count": null,
      "metadata": {
        "colab": {
          "base_uri": "https://localhost:8080/"
        },
        "id": "FtCiDFeeF12p",
        "outputId": "94911e47-c613-45b7-98d5-061d1261d24c"
      },
      "outputs": [
        {
          "output_type": "stream",
          "name": "stderr",
          "text": [
            "\n",
            "Attaching package: ‘dplyr’\n",
            "\n",
            "\n",
            "The following object is masked from ‘package:xgboost’:\n",
            "\n",
            "    slice\n",
            "\n",
            "\n",
            "The following object is masked from ‘package:randomForest’:\n",
            "\n",
            "    combine\n",
            "\n",
            "\n",
            "The following objects are masked from ‘package:stats’:\n",
            "\n",
            "    filter, lag\n",
            "\n",
            "\n",
            "The following objects are masked from ‘package:base’:\n",
            "\n",
            "    intersect, setdiff, setequal, union\n",
            "\n",
            "\n"
          ]
        }
      ],
      "source": [
        "# Install all required packages\n",
        "Sys.setenv(KERAS_BACKEND = backend_engine)\n",
        "library(dplyr)\n",
        "library(tidyr)\n",
        "library(readr)\n",
        "library(randomForest)\n",
        "library(e1071)\n",
        "library(reticulate)\n",
        "library(forecast)\n",
        "library(xgboost)\n",
        "library(keras)\n",
        "library(tensorflow)\n",
        "library(mlr3)\n",
        "library(DataExplorer)\n",
        "library(mlflow)"
      ]
    },
    {
      "cell_type": "code",
      "execution_count": null,
      "metadata": {
        "id": "MGu8gBYQUiGC"
      },
      "outputs": [],
      "source": [
        "# Set MLFLOW_TRACKING_URI environment variable\n",
        "MLFLOW_TRACKING_URI <- \"https://dagshub.com/ashwini.patil5737/Store_Sales_Forecasting_In_R.mlflow\"\n",
        "Sys.setenv(MLFLOW_TRACKING_URI = MLFLOW_TRACKING_URI)\n",
        "\n",
        "# Set MLFLOW_TRACKING_USERNAME environment variable\n",
        "MLFLOW_TRACKING_USERNAME <- \"ashwini.patil5737\"\n",
        "Sys.setenv(MLFLOW_TRACKING_USERNAME = MLFLOW_TRACKING_USERNAME)\n",
        "\n",
        "# Set MLFLOW_TRACKING_PASSWORD environment variable\n",
        "MLFLOW_TRACKING_PASSWORD <- \"c41bb41975f338e49f5ca38a6840cffe92696fb9\"\n",
        "Sys.setenv(MLFLOW_TRACKING_PASSWORD = MLFLOW_TRACKING_PASSWORD)\n"
      ]
    },
    {
      "cell_type": "code",
      "execution_count": null,
      "metadata": {
        "colab": {
          "base_uri": "https://localhost:8080/",
          "height": 382
        },
        "id": "VhouKGpjVhmL",
        "outputId": "d9c37402-f274-496b-e1b6-4fe098a83cd5"
      },
      "outputs": [
        {
          "output_type": "stream",
          "name": "stderr",
          "text": [
            "Warning message:\n",
            "“\u001b[1m\u001b[22m`as_integer()` is deprecated as of rlang 0.4.0\n",
            "Please use `vctrs::vec_cast()` instead.\n",
            "\u001b[90mThis warning is displayed once every 8 hours.\u001b[39m”\n"
          ]
        },
        {
          "output_type": "display_data",
          "data": {
            "text/html": [
              "<table class=\"dataframe\">\n",
              "<caption>A mlflow_run: 1 × 13</caption>\n",
              "<thead>\n",
              "\t<tr><th scope=col>lifecycle_stage</th><th scope=col>status</th><th scope=col>start_time</th><th scope=col>artifact_uri</th><th scope=col>run_id</th><th scope=col>run_uuid</th><th scope=col>experiment_id</th><th scope=col>user_id</th><th scope=col>run_name</th><th scope=col>end_time</th><th scope=col>metrics</th><th scope=col>params</th><th scope=col>tags</th><th scope=col>NA</th></tr>\n",
              "\t<tr><th scope=col>&lt;chr&gt;</th><th scope=col>&lt;chr&gt;</th><th scope=col>&lt;dttm&gt;</th><th scope=col>&lt;chr&gt;</th><th scope=col>&lt;chr&gt;</th><th scope=col>&lt;chr&gt;</th><th scope=col>&lt;chr&gt;</th><th scope=col>&lt;chr&gt;</th><th scope=col>&lt;chr&gt;</th><th scope=col>&lt;lgl&gt;</th><th scope=col>&lt;lgl&gt;</th><th scope=col>&lt;lgl&gt;</th><th scope=col>&lt;list&gt;</th></tr>\n",
              "</thead>\n",
              "<tbody>\n",
              "\t<tr><td>active</td><td>RUNNING</td><td>2024-12-10 05:25:46</td><td>mlflow-artifacts:/54d8f8781207442e9de1017e35641d82/9821fbfd579c43f6b7aae06c60961ef3/artifacts</td><td>9821fbfd579c43f6b7aae06c60961ef3</td><td>9821fbfd579c43f6b7aae06c60961ef3</td><td>0</td><td>root</td><td>angry-calf-16</td><td>NA</td><td>NA</td><td>NA</td><td>ashwini.patil5737</td><td>mlflow.user       </td></tr>\n",
              "\t<tr><td>active</td><td>RUNNING</td><td>2024-12-10 05:25:46</td><td>mlflow-artifacts:/54d8f8781207442e9de1017e35641d82/9821fbfd579c43f6b7aae06c60961ef3/artifacts</td><td>9821fbfd579c43f6b7aae06c60961ef3</td><td>9821fbfd579c43f6b7aae06c60961ef3</td><td>0</td><td>root</td><td>angry-calf-16</td><td>NA</td><td>NA</td><td>NA</td><td><span style=white-space:pre-wrap>&lt;console&gt;        </span></td><td>mlflow.source.name</td></tr>\n",
              "\t<tr><td>active</td><td>RUNNING</td><td>2024-12-10 05:25:46</td><td>mlflow-artifacts:/54d8f8781207442e9de1017e35641d82/9821fbfd579c43f6b7aae06c60961ef3/artifacts</td><td>9821fbfd579c43f6b7aae06c60961ef3</td><td>9821fbfd579c43f6b7aae06c60961ef3</td><td>0</td><td>root</td><td>angry-calf-16</td><td>NA</td><td>NA</td><td>NA</td><td>LOCAL            </td><td>mlflow.source.type</td></tr>\n",
              "\t<tr><td>active</td><td>RUNNING</td><td>2024-12-10 05:25:46</td><td>mlflow-artifacts:/54d8f8781207442e9de1017e35641d82/9821fbfd579c43f6b7aae06c60961ef3/artifacts</td><td>9821fbfd579c43f6b7aae06c60961ef3</td><td>9821fbfd579c43f6b7aae06c60961ef3</td><td>0</td><td>root</td><td>angry-calf-16</td><td>NA</td><td>NA</td><td>NA</td><td>angry-calf-16    </td><td>mlflow.runName    </td></tr>\n",
              "</tbody>\n",
              "</table>\n"
            ],
            "text/markdown": "\nA mlflow_run: 1 × 13\n\n| lifecycle_stage &lt;chr&gt; | status &lt;chr&gt; | start_time &lt;dttm&gt; | artifact_uri &lt;chr&gt; | run_id &lt;chr&gt; | run_uuid &lt;chr&gt; | experiment_id &lt;chr&gt; | user_id &lt;chr&gt; | run_name &lt;chr&gt; | end_time &lt;lgl&gt; | metrics &lt;lgl&gt; | params &lt;lgl&gt; | tags &lt;list&gt; | NA &lt;chr&gt; |\n|---|---|---|---|---|---|---|---|---|---|---|---|---|\n| active | RUNNING | 2024-12-10 05:25:46 | mlflow-artifacts:/54d8f8781207442e9de1017e35641d82/9821fbfd579c43f6b7aae06c60961ef3/artifacts | 9821fbfd579c43f6b7aae06c60961ef3 | 9821fbfd579c43f6b7aae06c60961ef3 | 0 | root | angry-calf-16 | NA | NA | NA | ashwini.patil5737 | mlflow.user        |\n| active | RUNNING | 2024-12-10 05:25:46 | mlflow-artifacts:/54d8f8781207442e9de1017e35641d82/9821fbfd579c43f6b7aae06c60961ef3/artifacts | 9821fbfd579c43f6b7aae06c60961ef3 | 9821fbfd579c43f6b7aae06c60961ef3 | 0 | root | angry-calf-16 | NA | NA | NA | &lt;console&gt;         | mlflow.source.name |\n| active | RUNNING | 2024-12-10 05:25:46 | mlflow-artifacts:/54d8f8781207442e9de1017e35641d82/9821fbfd579c43f6b7aae06c60961ef3/artifacts | 9821fbfd579c43f6b7aae06c60961ef3 | 9821fbfd579c43f6b7aae06c60961ef3 | 0 | root | angry-calf-16 | NA | NA | NA | LOCAL             | mlflow.source.type |\n| active | RUNNING | 2024-12-10 05:25:46 | mlflow-artifacts:/54d8f8781207442e9de1017e35641d82/9821fbfd579c43f6b7aae06c60961ef3/artifacts | 9821fbfd579c43f6b7aae06c60961ef3 | 9821fbfd579c43f6b7aae06c60961ef3 | 0 | root | angry-calf-16 | NA | NA | NA | angry-calf-16     | mlflow.runName     |\n\n",
            "text/latex": "A mlflow\\_run: 1 × 13\n\\begin{tabular}{lllllllllllll}\n lifecycle\\_stage & status & start\\_time & artifact\\_uri & run\\_id & run\\_uuid & experiment\\_id & user\\_id & run\\_name & end\\_time & metrics & params & tags & NA\\\\\n <chr> & <chr> & <dttm> & <chr> & <chr> & <chr> & <chr> & <chr> & <chr> & <lgl> & <lgl> & <lgl> & <list>\\\\\n\\hline\n\t active & RUNNING & 2024-12-10 05:25:46 & mlflow-artifacts:/54d8f8781207442e9de1017e35641d82/9821fbfd579c43f6b7aae06c60961ef3/artifacts & 9821fbfd579c43f6b7aae06c60961ef3 & 9821fbfd579c43f6b7aae06c60961ef3 & 0 & root & angry-calf-16 & NA & NA & NA & ashwini.patil5737 & mlflow.user       \\\\\n\t active & RUNNING & 2024-12-10 05:25:46 & mlflow-artifacts:/54d8f8781207442e9de1017e35641d82/9821fbfd579c43f6b7aae06c60961ef3/artifacts & 9821fbfd579c43f6b7aae06c60961ef3 & 9821fbfd579c43f6b7aae06c60961ef3 & 0 & root & angry-calf-16 & NA & NA & NA & <console>         & mlflow.source.name\\\\\n\t active & RUNNING & 2024-12-10 05:25:46 & mlflow-artifacts:/54d8f8781207442e9de1017e35641d82/9821fbfd579c43f6b7aae06c60961ef3/artifacts & 9821fbfd579c43f6b7aae06c60961ef3 & 9821fbfd579c43f6b7aae06c60961ef3 & 0 & root & angry-calf-16 & NA & NA & NA & LOCAL             & mlflow.source.type\\\\\n\t active & RUNNING & 2024-12-10 05:25:46 & mlflow-artifacts:/54d8f8781207442e9de1017e35641d82/9821fbfd579c43f6b7aae06c60961ef3/artifacts & 9821fbfd579c43f6b7aae06c60961ef3 & 9821fbfd579c43f6b7aae06c60961ef3 & 0 & root & angry-calf-16 & NA & NA & NA & angry-calf-16     & mlflow.runName    \\\\\n\\end{tabular}\n",
            "text/plain": [
              "  lifecycle_stage status  start_time         \n",
              "1 active          RUNNING 2024-12-10 05:25:46\n",
              "2 active          RUNNING 2024-12-10 05:25:46\n",
              "3 active          RUNNING 2024-12-10 05:25:46\n",
              "4 active          RUNNING 2024-12-10 05:25:46\n",
              "  artifact_uri                                                                                 \n",
              "1 mlflow-artifacts:/54d8f8781207442e9de1017e35641d82/9821fbfd579c43f6b7aae06c60961ef3/artifacts\n",
              "2 mlflow-artifacts:/54d8f8781207442e9de1017e35641d82/9821fbfd579c43f6b7aae06c60961ef3/artifacts\n",
              "3 mlflow-artifacts:/54d8f8781207442e9de1017e35641d82/9821fbfd579c43f6b7aae06c60961ef3/artifacts\n",
              "4 mlflow-artifacts:/54d8f8781207442e9de1017e35641d82/9821fbfd579c43f6b7aae06c60961ef3/artifacts\n",
              "  run_id                           run_uuid                        \n",
              "1 9821fbfd579c43f6b7aae06c60961ef3 9821fbfd579c43f6b7aae06c60961ef3\n",
              "2 9821fbfd579c43f6b7aae06c60961ef3 9821fbfd579c43f6b7aae06c60961ef3\n",
              "3 9821fbfd579c43f6b7aae06c60961ef3 9821fbfd579c43f6b7aae06c60961ef3\n",
              "4 9821fbfd579c43f6b7aae06c60961ef3 9821fbfd579c43f6b7aae06c60961ef3\n",
              "  experiment_id user_id run_name      end_time metrics params tags             \n",
              "1 0             root    angry-calf-16 NA       NA      NA     ashwini.patil5737\n",
              "2 0             root    angry-calf-16 NA       NA      NA     <console>        \n",
              "3 0             root    angry-calf-16 NA       NA      NA     LOCAL            \n",
              "4 0             root    angry-calf-16 NA       NA      NA     angry-calf-16    \n",
              "  <NA>              \n",
              "1 mlflow.user       \n",
              "2 mlflow.source.name\n",
              "3 mlflow.source.type\n",
              "4 mlflow.runName    "
            ]
          },
          "metadata": {}
        }
      ],
      "source": [
        "# Set tracking URI if using a remote server\n",
        "# mlflow_end_run()\n",
        "mlflow_start_run()"
      ]
    },
    {
      "cell_type": "markdown",
      "metadata": {
        "id": "HblEJPwSJfdg"
      },
      "source": [
        "[link text](https://)**Read data from csv files**\n",
        "\n",
        "> Add blockquote\n",
        "\n"
      ]
    },
    {
      "cell_type": "code",
      "execution_count": null,
      "metadata": {
        "colab": {
          "base_uri": "https://localhost:8080/"
        },
        "id": "DBSyeQVkGAHb",
        "outputId": "2ba7e7b9-7e67-46d7-ef5b-0ae4599dcdbd"
      },
      "outputs": [
        {
          "output_type": "stream",
          "name": "stderr",
          "text": [
            "\u001b[1mRows: \u001b[22m\u001b[34m3000888\u001b[39m \u001b[1mColumns: \u001b[22m\u001b[34m6\u001b[39m\n",
            "\u001b[36m──\u001b[39m \u001b[1mColumn specification\u001b[22m \u001b[36m────────────────────────────────────────────────────────\u001b[39m\n",
            "\u001b[1mDelimiter:\u001b[22m \",\"\n",
            "\u001b[31mchr\u001b[39m  (1): family\n",
            "\u001b[32mdbl\u001b[39m  (4): id, store_nbr, sales, onpromotion\n",
            "\u001b[34mdate\u001b[39m (1): date\n",
            "\n",
            "\u001b[36mℹ\u001b[39m Use `spec()` to retrieve the full column specification for this data.\n",
            "\u001b[36mℹ\u001b[39m Specify the column types or set `show_col_types = FALSE` to quiet this message.\n",
            "\u001b[1mRows: \u001b[22m\u001b[34m1218\u001b[39m \u001b[1mColumns: \u001b[22m\u001b[34m2\u001b[39m\n",
            "\u001b[36m──\u001b[39m \u001b[1mColumn specification\u001b[22m \u001b[36m────────────────────────────────────────────────────────\u001b[39m\n",
            "\u001b[1mDelimiter:\u001b[22m \",\"\n",
            "\u001b[32mdbl\u001b[39m  (1): dcoilwtico\n",
            "\u001b[34mdate\u001b[39m (1): date\n",
            "\n",
            "\u001b[36mℹ\u001b[39m Use `spec()` to retrieve the full column specification for this data.\n",
            "\u001b[36mℹ\u001b[39m Specify the column types or set `show_col_types = FALSE` to quiet this message.\n",
            "\u001b[1mRows: \u001b[22m\u001b[34m54\u001b[39m \u001b[1mColumns: \u001b[22m\u001b[34m5\u001b[39m\n",
            "\u001b[36m──\u001b[39m \u001b[1mColumn specification\u001b[22m \u001b[36m────────────────────────────────────────────────────────\u001b[39m\n",
            "\u001b[1mDelimiter:\u001b[22m \",\"\n",
            "\u001b[31mchr\u001b[39m (3): city, state, type\n",
            "\u001b[32mdbl\u001b[39m (2): store_nbr, cluster\n",
            "\n",
            "\u001b[36mℹ\u001b[39m Use `spec()` to retrieve the full column specification for this data.\n",
            "\u001b[36mℹ\u001b[39m Specify the column types or set `show_col_types = FALSE` to quiet this message.\n",
            "\u001b[1mRows: \u001b[22m\u001b[34m83488\u001b[39m \u001b[1mColumns: \u001b[22m\u001b[34m3\u001b[39m\n",
            "\u001b[36m──\u001b[39m \u001b[1mColumn specification\u001b[22m \u001b[36m────────────────────────────────────────────────────────\u001b[39m\n",
            "\u001b[1mDelimiter:\u001b[22m \",\"\n",
            "\u001b[32mdbl\u001b[39m  (2): store_nbr, transactions\n",
            "\u001b[34mdate\u001b[39m (1): date\n",
            "\n",
            "\u001b[36mℹ\u001b[39m Use `spec()` to retrieve the full column specification for this data.\n",
            "\u001b[36mℹ\u001b[39m Specify the column types or set `show_col_types = FALSE` to quiet this message.\n",
            "\u001b[1mRows: \u001b[22m\u001b[34m350\u001b[39m \u001b[1mColumns: \u001b[22m\u001b[34m6\u001b[39m\n",
            "\u001b[36m──\u001b[39m \u001b[1mColumn specification\u001b[22m \u001b[36m────────────────────────────────────────────────────────\u001b[39m\n",
            "\u001b[1mDelimiter:\u001b[22m \",\"\n",
            "\u001b[31mchr\u001b[39m  (4): type, locale, locale_name, description\n",
            "\u001b[33mlgl\u001b[39m  (1): transferred\n",
            "\u001b[34mdate\u001b[39m (1): date\n",
            "\n",
            "\u001b[36mℹ\u001b[39m Use `spec()` to retrieve the full column specification for this data.\n",
            "\u001b[36mℹ\u001b[39m Specify the column types or set `show_col_types = FALSE` to quiet this message.\n"
          ]
        }
      ],
      "source": [
        "# Read Data\n",
        "data_df <- read_csv(\"train.csv\")\n",
        "oil_df <- read_csv(\"oil.csv\")\n",
        "stores_df <- read_csv(\"stores.csv\")\n",
        "transactions_df <- read_csv(\"transactions.csv\")\n",
        "holidays_df <- read_csv(\"holidays_events.csv\")"
      ]
    },
    {
      "cell_type": "code",
      "execution_count": null,
      "metadata": {
        "colab": {
          "base_uri": "https://localhost:8080/"
        },
        "id": "ywgYuRKRX5KE",
        "outputId": "cee0bc63-f3e5-4b11-b0c5-0592c733d0c0"
      },
      "outputs": [
        {
          "output_type": "stream",
          "name": "stdout",
          "text": [
            "spc_tbl_ [3,000,888 × 6] (S3: spec_tbl_df/tbl_df/tbl/data.frame)\n",
            " $ id         : num [1:3000888] 0 1 2 3 4 5 6 7 8 9 ...\n",
            " $ date       : Date[1:3000888], format: \"2013-01-01\" \"2013-01-01\" ...\n",
            " $ store_nbr  : num [1:3000888] 1 1 1 1 1 1 1 1 1 1 ...\n",
            " $ family     : chr [1:3000888] \"AUTOMOTIVE\" \"BABY CARE\" \"BEAUTY\" \"BEVERAGES\" ...\n",
            " $ sales      : num [1:3000888] 0 0 0 0 0 0 0 0 0 0 ...\n",
            " $ onpromotion: num [1:3000888] 0 0 0 0 0 0 0 0 0 0 ...\n",
            " - attr(*, \"spec\")=\n",
            "  .. cols(\n",
            "  ..   id = \u001b[32mcol_double()\u001b[39m,\n",
            "  ..   date = \u001b[34mcol_date(format = \"\")\u001b[39m,\n",
            "  ..   store_nbr = \u001b[32mcol_double()\u001b[39m,\n",
            "  ..   family = \u001b[31mcol_character()\u001b[39m,\n",
            "  ..   sales = \u001b[32mcol_double()\u001b[39m,\n",
            "  ..   onpromotion = \u001b[32mcol_double()\u001b[39m\n",
            "  .. )\n",
            " - attr(*, \"problems\")=<externalptr> \n",
            "spc_tbl_ [1,218 × 2] (S3: spec_tbl_df/tbl_df/tbl/data.frame)\n",
            " $ date      : Date[1:1218], format: \"2013-01-01\" \"2013-01-02\" ...\n",
            " $ dcoilwtico: num [1:1218] NA 93.1 93 93.1 93.2 ...\n",
            " - attr(*, \"spec\")=\n",
            "  .. cols(\n",
            "  ..   date = \u001b[34mcol_date(format = \"\")\u001b[39m,\n",
            "  ..   dcoilwtico = \u001b[32mcol_double()\u001b[39m\n",
            "  .. )\n",
            " - attr(*, \"problems\")=<externalptr> \n",
            "spc_tbl_ [83,488 × 3] (S3: spec_tbl_df/tbl_df/tbl/data.frame)\n",
            " $ date        : Date[1:83488], format: \"2013-01-01\" \"2013-01-02\" ...\n",
            " $ store_nbr   : num [1:83488] 25 1 2 3 4 5 6 7 8 9 ...\n",
            " $ transactions: num [1:83488] 770 2111 2358 3487 1922 ...\n",
            " - attr(*, \"spec\")=\n",
            "  .. cols(\n",
            "  ..   date = \u001b[34mcol_date(format = \"\")\u001b[39m,\n",
            "  ..   store_nbr = \u001b[32mcol_double()\u001b[39m,\n",
            "  ..   transactions = \u001b[32mcol_double()\u001b[39m\n",
            "  .. )\n",
            " - attr(*, \"problems\")=<externalptr> \n",
            "spc_tbl_ [54 × 5] (S3: spec_tbl_df/tbl_df/tbl/data.frame)\n",
            " $ store_nbr: num [1:54] 1 2 3 4 5 6 7 8 9 10 ...\n",
            " $ city     : chr [1:54] \"Quito\" \"Quito\" \"Quito\" \"Quito\" ...\n",
            " $ state    : chr [1:54] \"Pichincha\" \"Pichincha\" \"Pichincha\" \"Pichincha\" ...\n",
            " $ type     : chr [1:54] \"D\" \"D\" \"D\" \"D\" ...\n",
            " $ cluster  : num [1:54] 13 13 8 9 4 13 8 8 6 15 ...\n",
            " - attr(*, \"spec\")=\n",
            "  .. cols(\n",
            "  ..   store_nbr = \u001b[32mcol_double()\u001b[39m,\n",
            "  ..   city = \u001b[31mcol_character()\u001b[39m,\n",
            "  ..   state = \u001b[31mcol_character()\u001b[39m,\n",
            "  ..   type = \u001b[31mcol_character()\u001b[39m,\n",
            "  ..   cluster = \u001b[32mcol_double()\u001b[39m\n",
            "  .. )\n",
            " - attr(*, \"problems\")=<externalptr> \n",
            "spc_tbl_ [350 × 6] (S3: spec_tbl_df/tbl_df/tbl/data.frame)\n",
            " $ date       : Date[1:350], format: \"2012-03-02\" \"2012-04-01\" ...\n",
            " $ type       : chr [1:350] \"Holiday\" \"Holiday\" \"Holiday\" \"Holiday\" ...\n",
            " $ locale     : chr [1:350] \"Local\" \"Regional\" \"Local\" \"Local\" ...\n",
            " $ locale_name: chr [1:350] \"Manta\" \"Cotopaxi\" \"Cuenca\" \"Libertad\" ...\n",
            " $ description: chr [1:350] \"Fundacion de Manta\" \"Provincializacion de Cotopaxi\" \"Fundacion de Cuenca\" \"Cantonizacion de Libertad\" ...\n",
            " $ transferred: logi [1:350] FALSE FALSE FALSE FALSE FALSE FALSE ...\n",
            " - attr(*, \"spec\")=\n",
            "  .. cols(\n",
            "  ..   date = \u001b[34mcol_date(format = \"\")\u001b[39m,\n",
            "  ..   type = \u001b[31mcol_character()\u001b[39m,\n",
            "  ..   locale = \u001b[31mcol_character()\u001b[39m,\n",
            "  ..   locale_name = \u001b[31mcol_character()\u001b[39m,\n",
            "  ..   description = \u001b[31mcol_character()\u001b[39m,\n",
            "  ..   transferred = \u001b[33mcol_logical()\u001b[39m\n",
            "  .. )\n",
            " - attr(*, \"problems\")=<externalptr> \n"
          ]
        }
      ],
      "source": [
        "str(data_df)\n",
        "str(oil_df)\n",
        "str(transactions_df)\n",
        "str(stores_df)\n",
        "str(holidays_df)"
      ]
    },
    {
      "cell_type": "code",
      "execution_count": null,
      "metadata": {
        "id": "vkkJfVu3GB5e"
      },
      "outputs": [],
      "source": [
        "# Remove NA values\n",
        "data_df <- na.omit(data_df)\n",
        "oil_df <- na.omit(oil_df)\n",
        "stores_df <- na.omit(stores_df)\n",
        "transactions_df <- na.omit(transactions_df)\n",
        "holidays_df <- na.omit(holidays_df)\n"
      ]
    },
    {
      "cell_type": "code",
      "execution_count": null,
      "metadata": {
        "id": "zOzyklH9GGv3"
      },
      "outputs": [],
      "source": [
        "# Convert date column to Date type\n",
        "data_df$date <- as.Date(data_df$date)"
      ]
    },
    {
      "cell_type": "code",
      "execution_count": null,
      "metadata": {
        "colab": {
          "base_uri": "https://localhost:8080/"
        },
        "id": "Z0fBcObGGJyo",
        "outputId": "df9811fd-5405-4424-b1c5-115010822f4d"
      },
      "outputs": [
        {
          "output_type": "stream",
          "name": "stderr",
          "text": [
            "Warning message in left_join(., holidays_df, by = \"date\"):\n",
            "“\u001b[1m\u001b[22mDetected an unexpected many-to-many relationship between `x` and `y`.\n",
            "\u001b[36mℹ\u001b[39m Row 233443 of `x` matches multiple rows in `y`.\n",
            "\u001b[36mℹ\u001b[39m Row 42 of `y` matches multiple rows in `x`.\n",
            "\u001b[36mℹ\u001b[39m If a many-to-many relationship is expected, set `relationship =\n",
            "  \"many-to-many\"` to silence this warning.”\n"
          ]
        },
        {
          "output_type": "stream",
          "name": "stdout",
          "text": [
            "\u001b[90m# A tibble: 3,054,348 × 17\u001b[39m\n",
            "      id date       store_nbr family    sales onpromotion dcoilwtico city  state\n",
            "   \u001b[3m\u001b[90m<dbl>\u001b[39m\u001b[23m \u001b[3m\u001b[90m<date>\u001b[39m\u001b[23m         \u001b[3m\u001b[90m<dbl>\u001b[39m\u001b[23m \u001b[3m\u001b[90m<chr>\u001b[39m\u001b[23m     \u001b[3m\u001b[90m<dbl>\u001b[39m\u001b[23m       \u001b[3m\u001b[90m<dbl>\u001b[39m\u001b[23m      \u001b[3m\u001b[90m<dbl>\u001b[39m\u001b[23m \u001b[3m\u001b[90m<chr>\u001b[39m\u001b[23m \u001b[3m\u001b[90m<chr>\u001b[39m\u001b[23m\n",
            "\u001b[90m 1\u001b[39m     0 2013-01-01         1 AUTOMOTI…     0           0         \u001b[31mNA\u001b[39m Quito Pich…\n",
            "\u001b[90m 2\u001b[39m     1 2013-01-01         1 BABY CARE     0           0         \u001b[31mNA\u001b[39m Quito Pich…\n",
            "\u001b[90m 3\u001b[39m     2 2013-01-01         1 BEAUTY        0           0         \u001b[31mNA\u001b[39m Quito Pich…\n",
            "\u001b[90m 4\u001b[39m     3 2013-01-01         1 BEVERAGES     0           0         \u001b[31mNA\u001b[39m Quito Pich…\n",
            "\u001b[90m 5\u001b[39m     4 2013-01-01         1 BOOKS         0           0         \u001b[31mNA\u001b[39m Quito Pich…\n",
            "\u001b[90m 6\u001b[39m     5 2013-01-01         1 BREAD/BA…     0           0         \u001b[31mNA\u001b[39m Quito Pich…\n",
            "\u001b[90m 7\u001b[39m     6 2013-01-01         1 CELEBRAT…     0           0         \u001b[31mNA\u001b[39m Quito Pich…\n",
            "\u001b[90m 8\u001b[39m     7 2013-01-01         1 CLEANING      0           0         \u001b[31mNA\u001b[39m Quito Pich…\n",
            "\u001b[90m 9\u001b[39m     8 2013-01-01         1 DAIRY         0           0         \u001b[31mNA\u001b[39m Quito Pich…\n",
            "\u001b[90m10\u001b[39m     9 2013-01-01         1 DELI          0           0         \u001b[31mNA\u001b[39m Quito Pich…\n",
            "\u001b[90m# ℹ 3,054,338 more rows\u001b[39m\n",
            "\u001b[90m# ℹ 8 more variables: type.x <chr>, cluster <dbl>, transactions <dbl>,\u001b[39m\n",
            "\u001b[90m#   type.y <chr>, locale <chr>, locale_name <chr>, description <chr>,\u001b[39m\n",
            "\u001b[90m#   transferred <lgl>\u001b[39m\n"
          ]
        }
      ],
      "source": [
        "# Merge Data\n",
        "merged_data_df <- data_df %>%\n",
        "  left_join(oil_df, by = \"date\") %>%\n",
        "  left_join(stores_df, by = \"store_nbr\") %>%\n",
        "  left_join(transactions_df, by = c(\"store_nbr\", \"date\")) %>%\n",
        "  left_join(holidays_df, by = \"date\")\n",
        "\n",
        "# Now merged_data_df contains the full data\n",
        "# Print the merged data\n",
        "print(merged_data_df)\n"
      ]
    },
    {
      "cell_type": "code",
      "execution_count": null,
      "metadata": {
        "id": "YKoMYDg4GM1w"
      },
      "outputs": [],
      "source": [
        "# Reduce size of merged data sets\n",
        "#merged_data_df <- sample_n(merged_data_df)\n",
        "# merged_data_df <-"
      ]
    },
    {
      "cell_type": "code",
      "execution_count": null,
      "metadata": {
        "colab": {
          "base_uri": "https://localhost:8080/"
        },
        "id": "odjEQXmSXcHH",
        "outputId": "781a36b9-0134-4f28-8bb0-4e8f40d954ca"
      },
      "outputs": [
        {
          "output_type": "stream",
          "name": "stdout",
          "text": [
            "tibble [3,054,348 × 17] (S3: tbl_df/tbl/data.frame)\n",
            " $ id          : num [1:3054348] 0 1 2 3 4 5 6 7 8 9 ...\n",
            " $ date        : Date[1:3054348], format: \"2013-01-01\" \"2013-01-01\" ...\n",
            " $ store_nbr   : num [1:3054348] 1 1 1 1 1 1 1 1 1 1 ...\n",
            " $ family      : chr [1:3054348] \"AUTOMOTIVE\" \"BABY CARE\" \"BEAUTY\" \"BEVERAGES\" ...\n",
            " $ sales       : num [1:3054348] 0 0 0 0 0 0 0 0 0 0 ...\n",
            " $ onpromotion : num [1:3054348] 0 0 0 0 0 0 0 0 0 0 ...\n",
            " $ dcoilwtico  : num [1:3054348] NA NA NA NA NA NA NA NA NA NA ...\n",
            " $ city        : chr [1:3054348] \"Quito\" \"Quito\" \"Quito\" \"Quito\" ...\n",
            " $ state       : chr [1:3054348] \"Pichincha\" \"Pichincha\" \"Pichincha\" \"Pichincha\" ...\n",
            " $ type.x      : chr [1:3054348] \"D\" \"D\" \"D\" \"D\" ...\n",
            " $ cluster     : num [1:3054348] 13 13 13 13 13 13 13 13 13 13 ...\n",
            " $ transactions: num [1:3054348] NA NA NA NA NA NA NA NA NA NA ...\n",
            " $ type.y      : chr [1:3054348] \"Holiday\" \"Holiday\" \"Holiday\" \"Holiday\" ...\n",
            " $ locale      : chr [1:3054348] \"National\" \"National\" \"National\" \"National\" ...\n",
            " $ locale_name : chr [1:3054348] \"Ecuador\" \"Ecuador\" \"Ecuador\" \"Ecuador\" ...\n",
            " $ description : chr [1:3054348] \"Primer dia del ano\" \"Primer dia del ano\" \"Primer dia del ano\" \"Primer dia del ano\" ...\n",
            " $ transferred : logi [1:3054348] FALSE FALSE FALSE FALSE FALSE FALSE ...\n"
          ]
        }
      ],
      "source": [
        "str(merged_data_df)"
      ]
    },
    {
      "cell_type": "code",
      "execution_count": null,
      "metadata": {
        "colab": {
          "base_uri": "https://localhost:8080/"
        },
        "id": "fhNMpuxssAFf",
        "outputId": "86abab9c-9c4d-4734-c903-cf4c143a10d1"
      },
      "outputs": [
        {
          "output_type": "stream",
          "name": "stderr",
          "text": [
            "Installing package into ‘/usr/local/lib/R/site-library’\n",
            "(as ‘lib’ is unspecified)\n",
            "\n",
            "Installing package into ‘/usr/local/lib/R/site-library’\n",
            "(as ‘lib’ is unspecified)\n",
            "\n"
          ]
        }
      ],
      "source": [
        "install.packages(\"rmarkdown\")\n",
        "install.packages(\"knitr\")\n",
        "\n"
      ]
    },
    {
      "cell_type": "code",
      "execution_count": null,
      "metadata": {
        "id": "nRkHFiY9dwmJ"
      },
      "outputs": [],
      "source": [
        "#create_report(merged_data_df)"
      ]
    },
    {
      "cell_type": "code",
      "execution_count": null,
      "metadata": {
        "id": "j6uEG8JoGPmP"
      },
      "outputs": [],
      "source": [
        "# Select numeric columns\n",
        "numeric_cols <- sapply(merged_data_df, is.numeric)\n",
        "merged_data_df_numeric <- merged_data_df[numeric_cols]\n",
        "\n",
        "# Replace missing values with 0 in numeric columns\n",
        "merged_data_df_numeric[is.na(merged_data_df_numeric)] <- 0\n",
        "\n",
        "# Select character columns\n",
        "character_cols <- sapply(merged_data_df, is.character)\n",
        "merged_data_df_character <- merged_data_df[character_cols]\n",
        "\n",
        "# Replace missing values in character columns with \"Unknown\"\n",
        "merged_data_df_character[is.na(merged_data_df_character)] <- \"Unknown\"\n",
        "\n",
        "processed_df = merged_data_df\n",
        "# Merge back into the original dataframe\n",
        "processed_df[numeric_cols] <- merged_data_df_numeric\n",
        "processed_df[character_cols] <- merged_data_df_character\n",
        "\n",
        "# Assuming your data frame is named merged_data_df\n",
        "processed_df$transferred[is.na(processed_df$transferred)] <- FALSE\n"
      ]
    },
    {
      "cell_type": "code",
      "execution_count": null,
      "metadata": {
        "id": "zGQMuf7Sj9qV"
      },
      "outputs": [],
      "source": [
        "# If you want to remove duplicate rows as well\n",
        "processed_df <- unique(processed_df)\n"
      ]
    },
    {
      "cell_type": "code",
      "execution_count": null,
      "metadata": {
        "colab": {
          "base_uri": "https://localhost:8080/"
        },
        "id": "TXccC0bnZXLC",
        "outputId": "1aff5fcd-4242-4608-fe3a-c4964e4ff909"
      },
      "outputs": [
        {
          "output_type": "stream",
          "name": "stdout",
          "text": [
            "tibble [3,054,348 × 17] (S3: tbl_df/tbl/data.frame)\n",
            " $ id          : num [1:3054348] 0 1 2 3 4 5 6 7 8 9 ...\n",
            " $ date        : Date[1:3054348], format: \"2013-01-01\" \"2013-01-01\" ...\n",
            " $ store_nbr   : num [1:3054348] 1 1 1 1 1 1 1 1 1 1 ...\n",
            " $ family      : chr [1:3054348] \"AUTOMOTIVE\" \"BABY CARE\" \"BEAUTY\" \"BEVERAGES\" ...\n",
            " $ sales       : num [1:3054348] 0 0 0 0 0 0 0 0 0 0 ...\n",
            " $ onpromotion : num [1:3054348] 0 0 0 0 0 0 0 0 0 0 ...\n",
            " $ dcoilwtico  : num [1:3054348] 0 0 0 0 0 0 0 0 0 0 ...\n",
            " $ city        : chr [1:3054348] \"Quito\" \"Quito\" \"Quito\" \"Quito\" ...\n",
            " $ state       : chr [1:3054348] \"Pichincha\" \"Pichincha\" \"Pichincha\" \"Pichincha\" ...\n",
            " $ type.x      : chr [1:3054348] \"D\" \"D\" \"D\" \"D\" ...\n",
            " $ cluster     : num [1:3054348] 13 13 13 13 13 13 13 13 13 13 ...\n",
            " $ transactions: num [1:3054348] 0 0 0 0 0 0 0 0 0 0 ...\n",
            " $ type.y      : chr [1:3054348] \"Holiday\" \"Holiday\" \"Holiday\" \"Holiday\" ...\n",
            " $ locale      : chr [1:3054348] \"National\" \"National\" \"National\" \"National\" ...\n",
            " $ locale_name : chr [1:3054348] \"Ecuador\" \"Ecuador\" \"Ecuador\" \"Ecuador\" ...\n",
            " $ description : chr [1:3054348] \"Primer dia del ano\" \"Primer dia del ano\" \"Primer dia del ano\" \"Primer dia del ano\" ...\n",
            " $ transferred : logi [1:3054348] FALSE FALSE FALSE FALSE FALSE FALSE ...\n"
          ]
        }
      ],
      "source": [
        "str(processed_df)"
      ]
    },
    {
      "cell_type": "code",
      "execution_count": null,
      "metadata": {
        "colab": {
          "base_uri": "https://localhost:8080/",
          "height": 34
        },
        "id": "1WIiYz1BieOq",
        "outputId": "59e14c00-202c-44a4-ccc3-288a546beba3"
      },
      "outputs": [
        {
          "output_type": "display_data",
          "data": {
            "text/html": [
              "<style>\n",
              ".list-inline {list-style: none; margin:0; padding: 0}\n",
              ".list-inline>li {display: inline-block}\n",
              ".list-inline>li:not(:last-child)::after {content: \"\\00b7\"; padding: 0 .5ex}\n",
              "</style>\n",
              "<ol class=list-inline><li>'id'</li><li>'date'</li><li>'store_nbr'</li><li>'family'</li><li>'sales'</li><li>'onpromotion'</li><li>'dcoilwtico'</li><li>'city'</li><li>'state'</li><li>'type.x'</li><li>'cluster'</li><li>'transactions'</li><li>'type.y'</li><li>'locale'</li><li>'locale_name'</li><li>'description'</li><li>'transferred'</li></ol>\n"
            ],
            "text/markdown": "1. 'id'\n2. 'date'\n3. 'store_nbr'\n4. 'family'\n5. 'sales'\n6. 'onpromotion'\n7. 'dcoilwtico'\n8. 'city'\n9. 'state'\n10. 'type.x'\n11. 'cluster'\n12. 'transactions'\n13. 'type.y'\n14. 'locale'\n15. 'locale_name'\n16. 'description'\n17. 'transferred'\n\n\n",
            "text/latex": "\\begin{enumerate*}\n\\item 'id'\n\\item 'date'\n\\item 'store\\_nbr'\n\\item 'family'\n\\item 'sales'\n\\item 'onpromotion'\n\\item 'dcoilwtico'\n\\item 'city'\n\\item 'state'\n\\item 'type.x'\n\\item 'cluster'\n\\item 'transactions'\n\\item 'type.y'\n\\item 'locale'\n\\item 'locale\\_name'\n\\item 'description'\n\\item 'transferred'\n\\end{enumerate*}\n",
            "text/plain": [
              " [1] \"id\"           \"date\"         \"store_nbr\"    \"family\"       \"sales\"       \n",
              " [6] \"onpromotion\"  \"dcoilwtico\"   \"city\"         \"state\"        \"type.x\"      \n",
              "[11] \"cluster\"      \"transactions\" \"type.y\"       \"locale\"       \"locale_name\" \n",
              "[16] \"description\"  \"transferred\" "
            ]
          },
          "metadata": {}
        }
      ],
      "source": [
        "column_names <- colnames(processed_df)\n",
        "column_names"
      ]
    },
    {
      "cell_type": "code",
      "execution_count": null,
      "metadata": {
        "colab": {
          "base_uri": "https://localhost:8080/",
          "height": 1000
        },
        "id": "AKFFAfKMjG98",
        "outputId": "050928c7-00e7-499e-d2cd-8aa54424ca5e"
      },
      "outputs": [
        {
          "output_type": "stream",
          "name": "stderr",
          "text": [
            "\n",
            "Attaching package: ‘ggplot2’\n",
            "\n",
            "\n",
            "The following object is masked from ‘package:randomForest’:\n",
            "\n",
            "    margin\n",
            "\n",
            "\n"
          ]
        },
        {
          "output_type": "display_data",
          "data": {
            "text/plain": [
              "plot without title"
            ],
            "image/png": "[encoded data removed]"
          },
          "metadata": {
            "image/png": {
              "width": 420,
              "height": 420
            }
          }
        },
        {
          "output_type": "display_data",
          "data": {
            "text/plain": [
              "plot without title"
            ],
            "image/png": "[encoded data removed]"
          },
          "metadata": {
            "image/png": {
              "width": 420,
              "height": 420
            }
          }
        },
        {
          "output_type": "display_data",
          "data": {
            "text/plain": [
              "plot without title"
            ],
            "image/png": "[encoded data removed]"
          },
          "metadata": {
            "image/png": {
              "width": 420,
              "height": 420
            }
          }
        },
        {
          "output_type": "display_data",
          "data": {
            "text/plain": [
              "plot without title"
            ],
            "image/png": "[encoded data removed]"
          },
          "metadata": {
            "image/png": {
              "width": 420,
              "height": 420
            }
          }
        },
        {
          "output_type": "display_data",
          "data": {
            "text/plain": [
              "plot without title"
            ],
            "image/png": "[encoded data removed]"
          },
          "metadata": {
            "image/png": {
              "width": 420,
              "height": 420
            }
          }
        },
        {
          "output_type": "display_data",
          "data": {
            "text/plain": [
              "plot without title"
            ],
            "image/png": "[encoded data removed]"
          },
          "metadata": {
            "image/png": {
              "width": 420,
              "height": 420
            }
          }
        },
        {
          "output_type": "display_data",
          "data": {
            "text/plain": [
              "plot without title"
            ],
            "image/png": "[encoded data removed]"
          },
          "metadata": {
            "image/png": {
              "width": 420,
              "height": 420
            }
          }
        }
      ],
      "source": [
        "# Load necessary libraries\n",
        "library(ggplot2)\n",
        "library(dplyr)\n",
        "\n",
        "# Assuming processed_Df is your dataframe\n",
        "\n",
        "# 1. Time Series Plot of Sales Over Time\n",
        "ggplot(processed_df, aes(x = date, y = sales)) +\n",
        "  geom_line() +\n",
        "  labs(title = 'Sales Over Time', x = 'Date', y = 'Sales') +\n",
        "  theme_minimal()\n",
        "\n",
        "# 2. Sales by Store\n",
        "ggplot(processed_df, aes(x = factor(store_nbr), y = sales)) +\n",
        "  geom_bar(stat = \"identity\") +\n",
        "  labs(title = 'Sales by Store', x = 'Store Number', y = 'Sales') +\n",
        "  theme_minimal() +\n",
        "  theme(axis.text.x = element_text(angle = 90, hjust = 1))\n",
        "\n",
        "# 3. Sales by Product Family\n",
        "ggplot(processed_df, aes(x = family, y = sales)) +\n",
        "  geom_bar(stat = \"identity\") +\n",
        "  labs(title = 'Sales by Product Family', x = 'Product Family', y = 'Sales') +\n",
        "  theme_minimal() +\n",
        "  theme(axis.text.x = element_text(angle = 45, hjust = 1))\n",
        "\n",
        "# 4. Impact of Promotions on Sales\n",
        "ggplot(processed_df, aes(x = as.factor(onpromotion), y = sales)) +\n",
        "  geom_boxplot() +\n",
        "  labs(title = 'Impact of Promotions on Sales', x = 'On Promotion', y = 'Sales') +\n",
        "  theme_minimal()\n",
        "\n",
        "# 6. Sales by City\n",
        "ggplot(processed_df, aes(x = city, y = sales)) +\n",
        "  geom_bar(stat = \"identity\") +\n",
        "  labs(title = 'Sales by City', x = 'City', y = 'Sales') +\n",
        "  theme_minimal() +\n",
        "  theme(axis.text.x = element_text(angle = 45, hjust = 1))\n",
        "\n",
        "# 7. Transactions vs. Sales\n",
        "ggplot(processed_df, aes(x = transactions, y = sales)) +\n",
        "  geom_point() +\n",
        "  labs(title = 'Transactions vs. Sales', x = 'Transactions', y = 'Sales') +\n",
        "  theme_minimal()\n",
        "\n",
        "# 8. Sales Distribution by Store Type\n",
        "ggplot(processed_df, aes(x = type.x, y = sales)) +\n",
        "  geom_boxplot() +\n",
        "  labs(title = 'Sales Distribution by Store Type', x = 'Store Type', y = 'Sales') +\n",
        "  theme_minimal()\n"
      ]
    },
    {
      "cell_type": "code",
      "execution_count": null,
      "metadata": {
        "colab": {
          "base_uri": "https://localhost:8080/",
          "height": 437
        },
        "id": "5pUweeWlkq3Q",
        "outputId": "e4a13866-98a4-4f5c-beb0-a6ec271e9008"
      },
      "outputs": [
        {
          "output_type": "display_data",
          "data": {
            "text/plain": [
              "plot without title"
            ],
            "image/png": "[encoded data removed]"
          },
          "metadata": {
            "image/png": {
              "width": 420,
              "height": 420
            }
          }
        }
      ],
      "source": [
        "ggplot(processed_df, aes(x = type.x, y = sales)) +\n",
        "  geom_bar(stat = \"identity\") +  # Use stat = \"identity\" for raw data values\n",
        "  labs(title = \"Sales Distribution by Store Type\", x = \"Store Type\", y = \"Sales\") +\n",
        "  theme_minimal()"
      ]
    },
    {
      "cell_type": "code",
      "execution_count": null,
      "metadata": {
        "colab": {
          "base_uri": "https://localhost:8080/",
          "height": 437
        },
        "id": "vQXzRUsWkuz2",
        "outputId": "f19c1f25-68ea-40f3-9f00-7feba3338750"
      },
      "outputs": [
        {
          "output_type": "display_data",
          "data": {
            "text/plain": [
              "plot without title"
            ],
            "image/png": "[encoded data removed]"
          },
          "metadata": {
            "image/png": {
              "width": 420,
              "height": 420
            }
          }
        }
      ],
      "source": [
        "# Load necessary libraries\n",
        "library(ggplot2)\n",
        "library(dplyr)\n",
        "\n",
        "# Summarize data to get total sales by store type\n",
        "summary_data <- processed_df %>%\n",
        "  group_by(type.x) %>%\n",
        "  summarise(total_sales = sum(sales, na.rm = TRUE))\n",
        "\n",
        "# Add a column with the fraction of total sales for each store type\n",
        "summary_data <- summary_data %>%\n",
        "  mutate(fraction = total_sales / sum(total_sales))\n",
        "\n",
        "# Add a column with the percentage of total sales for each store type\n",
        "summary_data <- summary_data %>%\n",
        "  mutate(percentage = fraction * 100)\n",
        "\n",
        "# Add a column with the cumulative percentage for the pie chart\n",
        "summary_data <- summary_data %>%\n",
        "  arrange(desc(type.x)) %>%\n",
        "  mutate(ypos = cumsum(fraction) - 0.5 * fraction)\n",
        "\n",
        "# Create the pie chart\n",
        "ggplot(summary_data, aes(x = \"\", y = fraction, fill = type.x)) +\n",
        "  geom_bar(width = 1, stat = \"identity\") +\n",
        "  coord_polar(theta = \"y\") +\n",
        "  labs(title = 'Sales Distribution by Store Type', x = '', y = '') +\n",
        "  theme_minimal() +\n",
        "  theme(axis.text.x = element_blank(),\n",
        "        axis.ticks = element_blank(),\n",
        "        panel.grid = element_blank()) +\n",
        "  geom_text(aes(y = ypos, label = paste0(round(percentage, 1), \"%\")), color = \"white\")\n"
      ]
    },
    {
      "cell_type": "code",
      "execution_count": null,
      "metadata": {
        "id": "iBvBGINqnFmn"
      },
      "outputs": [],
      "source": [
        "# Load necessary libraries\n",
        "library(dplyr)\n",
        "\n",
        "# Assuming `df` is your dataframe with the mentioned features\n",
        "\n",
        "# Define the threshold for considering categories\n",
        "category_threshold <- 2\n",
        "\n",
        "# List of categorical columns with more than `category_threshold` categories\n",
        "columns_to_process <- c(\"date\", \"family\", \"city\", \"description\")\n",
        "\n",
        "# Apply one-hot encoding for columns with fewer categories\n",
        "df_processed <- processed_df %>%\n",
        "  mutate(across(all_of(columns_to_process), as.character),  # Convert to character type\n",
        "         across(all_of(columns_to_process), factor),        # Convert to factor type\n",
        "         across(all_of(columns_to_process), ~ifelse(n_distinct(.) >= category_threshold, ., \"Other\")),  # Group infrequent categories into \"Other\"\n",
        "         across(all_of(columns_to_process), as.factor),     # Convert back to factor type\n",
        "         across(all_of(columns_to_process), as.numeric))    # Convert factors to numeric (one-hot encoding)\n",
        "\n",
        "# Now `df_processed` contains your dataframe with categorical variables handled appropriately\n"
      ]
    },
    {
      "cell_type": "code",
      "execution_count": null,
      "metadata": {
        "id": "8y8oGstaeHl6"
      },
      "outputs": [],
      "source": [
        "#create_report(processed_df)"
      ]
    },
    {
      "cell_type": "code",
      "execution_count": null,
      "metadata": {
        "id": "KRaXGPuRGTfz"
      },
      "outputs": [],
      "source": [
        "# Split data into train and validation sets\n",
        "set.seed(42)\n",
        "train_indices <- sample(1:nrow(processed_df), 0.8 * nrow(processed_df))\n",
        "train_data <- processed_df[train_indices, ]\n",
        "validation_data <- processed_df[-train_indices, ]"
      ]
    },
    {
      "cell_type": "code",
      "execution_count": null,
      "metadata": {
        "id": "St7hhYzIGX1l"
      },
      "outputs": [],
      "source": [
        "# Spliting Data for traing and testing\n",
        "X_train <- train_data %>%\n",
        "  dplyr::select(-c(date, sales)) %>%\n",
        "  mutate(across(where(is.character), as.factor)) %>%\n",
        "  mutate(across(where(is.factor), as.numeric))\n",
        "\n",
        "y_train <- train_data$sales\n",
        "\n",
        "X_val <- validation_data %>%\n",
        "  dplyr::select(-c(date, sales)) %>%\n",
        "  mutate(across(where(is.character), as.factor)) %>%\n",
        "  mutate(across(where(is.factor), as.numeric))\n",
        "\n",
        "y_val <- validation_data$sales"
      ]
    },
    {
      "cell_type": "code",
      "execution_count": null,
      "metadata": {
        "id": "S7GFPO7EGkmS",
        "colab": {
          "base_uri": "https://localhost:8080/",
          "height": 245
        },
        "outputId": "e5757a2e-eae1-4f5c-d7da-042de203af39"
      },
      "outputs": [
        {
          "output_type": "error",
          "ename": "ERROR",
          "evalue": "Error: object 'train_data' not found\n",
          "traceback": [
            "Error: object 'train_data' not found\nTraceback:\n",
            "1. .handleSimpleError(function (cnd) \n . {\n .     watcher$capture_plot_and_output()\n .     cnd <- sanitize_call(cnd)\n .     watcher$push(cnd)\n .     switch(on_error, continue = invokeRestart(\"eval_continue\"), \n .         stop = invokeRestart(\"eval_stop\"), error = invokeRestart(\"eval_error\", \n .             cnd))\n . }, \"object 'train_data' not found\", base::quote(eval(expr, envir)))"
          ]
        }
      ],
      "source": [
        "\n",
        "\n",
        "# Train the Random Forest model\n",
        "rf_model <- ranger(\n",
        "  formula = y_train ~ .,          # Specify the target and predictors\n",
        "  data = train_data,              # The combined data frame\n",
        "  num.trees = 500,                # Number of trees\n",
        "  mtry = floor(sqrt(ncol(X_train))), # Number of variables to split on\n",
        "  importance = \"impurity\"         # Calculate variable importance\n",
        ")\n"
      ]
    },
    {
      "cell_type": "code",
      "execution_count": null,
      "metadata": {
        "id": "eAC2ZGTsGdX4"
      },
      "outputs": [],
      "source": [
        "# Feature Importance for Random Forest\n",
        "rf_feature_importance <- importance(rf_model, type = 1)"
      ]
    },
    {
      "cell_type": "code",
      "execution_count": null,
      "metadata": {
        "id": "PsPo7DnCGgkf"
      },
      "outputs": [],
      "source": [
        "# Print Feature Importance for Random Forest\n",
        "print(\"Random Forest Feature Importance:\")\n",
        "print(rf_feature_importance)"
      ]
    },
    {
      "cell_type": "code",
      "execution_count": null,
      "metadata": {
        "id": "4YBEFe57Gio2"
      },
      "outputs": [],
      "source": [
        "# Plot Feature Importance for Random Forest\n",
        "varImpPlot(rf_model)"
      ]
    },
    {
      "cell_type": "code",
      "execution_count": null,
      "metadata": {
        "id": "WCbUNLpYxkHm"
      },
      "outputs": [],
      "source": [
        "# Train a ranger random forest model with importance option\n",
        "ranger_model <- ranger(y = y_train, x = X_train, num.trees = 500, importance = \"impurity\")\n",
        "\n",
        "# Get variable importance\n",
        "var_importance <- importance(ranger_model)\n",
        "\n",
        "# Plot variable importance\n",
        "plot(var_importance)"
      ]
    },
    {
      "cell_type": "code",
      "execution_count": null,
      "metadata": {
        "id": "ePxY_yOBzHye"
      },
      "outputs": [],
      "source": [
        "# Install and load required packages\n",
        "install.packages(\"party\")\n",
        "library(party)\n",
        "\n",
        "# Train a conditional inference random forest model\n",
        "cforest_model <- cforest(y_train ~ ., data = data.frame(X_train, y_train), controls = cforest_unbiased())\n",
        "\n",
        "# Plot conditional variable importance\n",
        "varimp_plot <- varimp(cforest_model)\n",
        "plot(varimp_plot)"
      ]
    },
    {
      "cell_type": "code",
      "execution_count": null,
      "metadata": {
        "id": "HKc3fZZVGs3T"
      },
      "outputs": [],
      "source": [
        "# XGBoost Model\n",
        "dtrain <- xgb.DMatrix(data = as.matrix(X_train), label = y_train)\n",
        "dval <- xgb.DMatrix(data = as.matrix(X_val), label = y_val)\n",
        "\n",
        "params <- list(\n",
        "  objective = \"reg:squarederror\",\n",
        "  eval_metric = \"rmse\"\n",
        ")\n",
        "\n",
        "xgb_model <- xgboost(params = params, data = dtrain, nrounds = 100)\n"
      ]
    },
    {
      "cell_type": "code",
      "execution_count": null,
      "metadata": {
        "id": "x9nhwmQjGnoj"
      },
      "outputs": [],
      "source": [
        "xgb_feature_importance <- xgb.importance(colnames(X_train), model = xgb_model)\n",
        "\n",
        "# Print Feature Importance for XGBoost\n",
        "print(\"XGBoost Feature Importance:\")\n",
        "print(xgb_feature_importance)\n",
        "importance_matrix <- xgb.importance(colnames(X_train), model = xgb_model)\n",
        "xgb.plot.importance(importance_matrix)"
      ]
    },
    {
      "cell_type": "code",
      "execution_count": null,
      "metadata": {
        "id": "hyzTVpcqG3ZI"
      },
      "outputs": [],
      "source": [
        "# LSTM Model\n",
        "X_train_matrix <- as.matrix(X_train)\n",
        "X_val_matrix <- as.matrix(X_val)\n",
        "\n",
        "lstm_model <- keras_model_sequential()\n",
        "lstm_model %>%\n",
        "  layer_lstm(units = 50, input_shape = c(ncol(X_train_matrix), 1)) %>%\n",
        "  layer_dense(units = 1)\n",
        "\n",
        "lstm_model %>% compile(\n",
        "  loss = \"mean_squared_error\",\n",
        "  optimizer = optimizer_adam(),\n",
        "  metrics = c(\"mean_absolute_error\")\n",
        ")\n",
        "\n",
        "X_train_reshaped <- array_reshape(X_train_matrix, c(nrow(X_train_matrix), ncol(X_train_matrix), 1))\n",
        "X_val_reshaped <- array_reshape(X_val_matrix, c(nrow(X_val_matrix), ncol(X_val_matrix), 1))\n",
        "\n",
        "history <- lstm_model %>% fit(\n",
        "  X_train_reshaped, y_train,\n",
        "  epochs = 50, batch_size = 32,\n",
        "  validation_data = list(X_val_reshaped, y_val)\n",
        ")"
      ]
    },
    {
      "cell_type": "code",
      "execution_count": null,
      "metadata": {
        "id": "XBcML5lGG0c0"
      },
      "outputs": [],
      "source": [
        "# Get the output of the LSTM layer\n",
        "lstm_layer_output <- predict(lstm_model, X_train_reshaped)"
      ]
    },
    {
      "cell_type": "code",
      "execution_count": null,
      "metadata": {
        "id": "TyHcZdj-G18r"
      },
      "outputs": [],
      "source": [
        "# Plot activations of the LSTM layer\n",
        "plot(lstm_layer_output)\n"
      ]
    },
    {
      "cell_type": "code",
      "execution_count": null,
      "metadata": {
        "id": "iDXINrJCw1zF"
      },
      "outputs": [],
      "source": [
        "average_hidden_state <- rowMeans(lstm_layer_output)  # Calculate average across rows\n",
        "\n",
        "# Plot the average hidden state\n",
        "plot(average_hidden_state, type = \"l\",\n",
        "     xlab = \"Time Step\",\n",
        "     ylab = \"Average Hidden State Value\",\n",
        "     main = \"Average Hidden State Over Time\")"
      ]
    },
    {
      "cell_type": "code",
      "execution_count": null,
      "metadata": {
        "id": "GZS7EHPLHI9n"
      },
      "outputs": [],
      "source": [
        "# SARIMA Model\n",
        "sarima_model <- auto.arima(y_train)\n"
      ]
    },
    {
      "cell_type": "code",
      "execution_count": null,
      "metadata": {
        "id": "mNIi_WvoGyxz"
      },
      "outputs": [],
      "source": [
        "# Plot Autocorrelation and Partial Autocorrelation Functions\n",
        "par(mfrow=c(1,2))\n",
        "plot(acf_sales, main=\"Autocorrelation Function (ACF) of Sales\")\n",
        "plot(pacf_sales, main=\"Partial Autocorrelation Function (PACF) of Sales\")"
      ]
    },
    {
      "cell_type": "code",
      "execution_count": null,
      "metadata": {
        "id": "1R4rL9rCx7qp"
      },
      "outputs": [],
      "source": [
        "install.packages(\"mlflow.sklearn\")\n"
      ]
    },
    {
      "cell_type": "code",
      "execution_count": null,
      "metadata": {
        "id": "DMBe_bjpG99B"
      },
      "outputs": [],
      "source": [
        "# Random Forest Predictions\n",
        "predictions_rf <- predict(rf_model, X_val)\n",
        "\n",
        "# XGBoost Predictions\n",
        "predictions_xgb <- predict(xgb_model, dval)\n",
        "\n",
        "# LSTM Predictions\n",
        "predictions_lstm <- lstm_model %>% predict(X_val_reshaped)\n",
        "\n",
        "# SARIMA Predictions\n",
        "predictions_sarima <- forecast(sarima_model, h = nrow(validation_data))$mean"
      ]
    },
    {
      "cell_type": "code",
      "execution_count": null,
      "metadata": {
        "id": "DHwiHUvPtDBY"
      },
      "outputs": [],
      "source": [
        "signature <- list(input = \"data.frame\", output = \"factor\")\n",
        "mlflow_log_model(\n",
        "  model = model,\n",
        "  artifact_path = \"my_model\",\n",
        "  signature = signature,\n",
        "  #conda_env = \"conda.yaml\"\n",
        ")"
      ]
    },
    {
      "cell_type": "code",
      "execution_count": null,
      "metadata": {
        "id": "-vr5nicIHBx2"
      },
      "outputs": [],
      "source": [
        "# Calculate Metrics for each model\n",
        "mse_rf <- mean((predictions_rf - y_val)^2)\n",
        "mse_xgb <- mean((predictions_xgb - y_val)^2)\n",
        "mse_lstm <- mean((predictions_lstm - y_val)^2)\n",
        "\n",
        "\n",
        "rmse_rf <- sqrt(mean((predictions_rf - y_val)^2))\n",
        "rmse_xgb <- sqrt(mean((predictions_xgb - y_val)^2))\n",
        "rmse_lstm <- sqrt(mean((predictions_lstm - y_val)^2))\n",
        "\n",
        "mae_rf <- mean(abs(predictions_rf - y_val))\n",
        "mae_xgb <- mean(abs(predictions_xgb - y_val))\n",
        "mae_lstm <- mean(abs(predictions_lstm - y_val))\n",
        "\n",
        "r_squared_rf <- 1 - (sum((y_val - predictions_rf)^2) / sum((y_val - mean(y_val))^2))\n",
        "r_squared_xgb <- 1 - (sum((y_val - predictions_xgb)^2) / sum((y_val - mean(y_val))^2))\n",
        "r_squared_lstm <- 1 - (sum((y_val - predictions_lstm)^2) / sum((y_val - mean(y_val))^2))\n",
        "\n",
        "\n",
        "mse_sarima <- mean((predictions_sarima - y_val)^2)\n",
        "rmse_sarima <- sqrt(mean((predictions_sarima - y_val)^2))\n",
        "mae_sarima <- mean(abs(predictions_sarima - y_val))\n",
        "r_squared_sarima <- 1 - (sum((y_val - predictions_sarima)^2) / sum((y_val - mean(y_val))^2))"
      ]
    },
    {
      "cell_type": "code",
      "execution_count": null,
      "metadata": {
        "id": "G2gnmZNlHEU3"
      },
      "outputs": [],
      "source": [
        "# Output the results\n",
        "print(\"Random Forest Metrics:\")\n",
        "print(paste(\"MSE:\", mse_rf))\n",
        "print(paste(\"RMSE:\", rmse_rf))\n",
        "print(paste(\"MAE:\", mae_rf))\n",
        "print(paste(\"R-squared:\", r_squared_rf))\n",
        "\n",
        "print(\"XGBoost Metrics:\")\n",
        "print(paste(\"MSE:\", mse_xgb))\n",
        "print(paste(\"RMSE:\", rmse_xgb))\n",
        "print(paste(\"MAE:\", mae_xgb))\n",
        "print(paste(\"R-squared:\", r_squared_xgb))\n",
        "\n",
        "print(\"LSTM Metrics:\")\n",
        "print(paste(\"MSE:\", mse_lstm))\n",
        "print(paste(\"RMSE:\", rmse_lstm))\n",
        "print(paste(\"MAE:\", mae_lstm))\n",
        "print(paste(\"R-squared:\", r_squared_lstm))\n",
        "\n",
        "print(\"SARIMA Metrics:\")\n",
        "print(paste(\"MSE:\", mse_sarima))\n",
        "print(paste(\"RMSE:\", rmse_sarima))\n",
        "print(paste(\"MAE:\", mae_sarima))\n",
        "print(paste(\"R-squared:\", r_squared_sarima))"
      ]
    },
    {
      "cell_type": "code",
      "execution_count": null,
      "metadata": {
        "id": "g2voztioHaRD"
      },
      "outputs": [],
      "source": [
        "# Add SARIMA results to the summary table\n",
        "summary_table <- data.frame(\n",
        "  Model = c(\"Random-Forest\", \"XGBoost\", \"LSTM\", \"SARIMA\"),\n",
        "  MSE = c(mean((predictions_rf - y_val)^2), mean((predictions_xgb - y_val)^2), mean((predictions_lstm - y_val)^2), mse_sarima),\n",
        "  RMSE = c(sqrt(mean((predictions_rf - y_val)^2)), sqrt(mean((predictions_xgb - y_val)^2)), sqrt(mean((predictions_lstm - y_val)^2)), rmse_sarima),\n",
        "  MAE = c(mean(abs(predictions_rf - y_val)), mean(abs(predictions_xgb - y_val)), mean(abs(predictions_lstm - y_val)), mae_sarima),\n",
        "  R_squared = c(1 - (sum((y_val - predictions_rf)^2) / sum((y_val - mean(y_val))^2)), 1 - (sum((y_val - predictions_xgb)^2) / sum((y_val - mean(y_val))^2)), 1 - (sum((y_val - predictions_lstm)^2) / sum((y_val - mean(y_val))^2)), r_squared_sarima)\n",
        ")\n",
        "\n",
        "# Print the summary table\n",
        "print(summary_table)"
      ]
    },
    {
      "cell_type": "code",
      "execution_count": null,
      "metadata": {
        "id": "qcZZ6qp166PE"
      },
      "outputs": [],
      "source": [
        "# Assuming you have already trained your models and have predictions available\n",
        "# Import necessary libraries\n",
        "library(ggplot2)\n",
        "\n",
        "# Define function to calculate Mean Absolute Percentage Error (MAPE)\n",
        "MAPE <- function(actual, predicted) {\n",
        "  mean(abs((actual - predicted) / actual)) * 100\n",
        "}\n",
        "\n",
        "# Calculate accuracy metrics for each model\n",
        "mape_rf <- MAPE(y_val, predictions_rf)\n",
        "mape_xgb <- MAPE(y_val, predictions_xgb)\n",
        "mape_lstm <- MAPE(y_val, predictions_lstm)\n",
        "mape_sarima <- MAPE(y_val, sarima_forecast)\n",
        "\n",
        "# Define summary table\n",
        "summary_table <- data.frame(\n",
        "  Model = c(\"Random-Forest\", \"XGBoost\", \"LSTM\", \"SARIMA\"),\n",
        "  MSE = c(mean((predictions_rf - y_val)^2), mean((predictions_xgb - y_val)^2), mean((predictions_lstm - y_val)^2), mse_sarima),\n",
        "  RMSE = c(sqrt(mean((predictions_rf - y_val)^2)), sqrt(mean((predictions_xgb - y_val)^2)), sqrt(mean((predictions_lstm - y_val)^2)), rmse_sarima),\n",
        "  MAE = c(mean(abs(predictions_rf - y_val)), mean(abs(predictions_xgb - y_val)), mean(abs(predictions_lstm - y_val)), mae_sarima),\n",
        "  R_squared = c(1 - (sum((y_val - predictions_rf)^2) / sum((y_val - mean(y_val))^2)), 1 - (sum((y_val - predictions_xgb)^2) / sum((y_val - mean(y_val))^2)), 1 - (sum((y_val - predictions_lstm)^2) / sum((y_val - mean(y_val))^2)), r_squared_sarima),\n",
        "  MAPE = c(mape_rf, mape_xgb, mape_lstm, mape_sarima)\n",
        ")\n",
        "\n",
        "# Print summary table\n",
        "print(summary_table)\n",
        "\n",
        "# Create a bar plot of accuracy metrics for each model\n",
        "accuracy_data <- data.frame(\n",
        "  Model = rep(summary_table$Model, 5),\n",
        "  Metric = c(rep(\"MSE\", 4), rep(\"RMSE\", 4), rep(\"MAE\", 4), rep(\"R_squared\", 4), rep(\"MAPE\", 4)),\n",
        "  Value = c(summary_table$MSE, summary_table$RMSE, summary_table$MAE, summary_table$R_squared, summary_table$MAPE)\n",
        ")\n",
        "\n",
        "accuracy_plot <- ggplot(accuracy_data, aes(x = Model, y = Value, fill = Metric)) +\n",
        "  geom_bar(stat = \"identity\", position = \"dodge\") +\n",
        "  labs(title = \"Model Accuracy Metrics\", y = \"Value\") +\n",
        "  theme_minimal() +\n",
        "  theme(axis.text.x = element_text(angle = 45, hjust = 1))\n",
        "\n",
        "print(accuracy_plot)\n"
      ]
    },
    {
      "cell_type": "code",
      "execution_count": null,
      "metadata": {
        "id": "PvEEIAD1Hcue"
      },
      "outputs": [],
      "source": [
        "# Plot showing values for all models\n",
        "par(mfrow=c(2,2))\n",
        "barplot(summary_table$MSE, main=\"Mean Squared Error\", names.arg=summary_table$Model, col=\"lightblue\")\n",
        "barplot(summary_table$RMSE, main=\"Root Mean Squared Error\", names.arg=summary_table$Model, col=\"lightgreen\")\n",
        "barplot(summary_table$MAE, main=\"Mean Absolute Error\", names.arg=summary_table$Model, col=\"lightcoral\")\n",
        "barplot(summary_table$R_squared, main=\"R-squared\", names.arg=summary_table$Model, col=\"lightgray\")"
      ]
    },
    {
      "cell_type": "code",
      "execution_count": null,
      "metadata": {
        "id": "V-AVXBidHf36"
      },
      "outputs": [],
      "source": [
        "# Plotting predicted vs actual values for all models\n",
        "par(mfrow=c(2, 2))"
      ]
    },
    {
      "cell_type": "code",
      "execution_count": null,
      "metadata": {
        "id": "b7YhLXQyHiyf"
      },
      "outputs": [],
      "source": [
        "# Random Forest\n",
        "plot(y_val, predictions_rf, main = \"Random Forest Predictions\", xlab = \"Actual Sales\", ylab = \"Predicted Sales\", col = \"blue\")\n",
        "abline(0, 1, col = \"red\")\n",
        "\n",
        "# XGBoost\n",
        "plot(y_val, predictions_xgb, main = \"XGBoost Predictions\", xlab = \"Actual Sales\", ylab = \"Predicted Sales\", col = \"green\")\n",
        "abline(0, 1, col = \"red\")\n",
        "\n",
        "# LSTM\n",
        "plot(y_val, predictions_lstm, main = \"LSTM Predictions\", xlab = \"Actual Sales\", ylab = \"Predicted Sales\", col = \"purple\")\n",
        "abline(0, 1, col = \"red\")\n",
        "\n",
        "# SARIMA\n",
        "plot(y_val, predictions_sarima, main = \"SARIMA Predictions\", xlab = \"Actual Sales\", ylab = \"Predicted Sales\", col = \"orange\")\n",
        "abline(0, 1, col = \"red\")"
      ]
    },
    {
      "cell_type": "code",
      "execution_count": null,
      "metadata": {
        "id": "4b4AIH8LHKSd"
      },
      "outputs": [],
      "source": [
        "\n",
        "\n",
        "\n",
        "\n",
        "# Create a summary table for all models\n",
        "#summary_table <- data.frame(\n",
        "#  Model = c(\"Random Forest\", \"XGBoost\", \"LSTM\"),\n",
        "#  MSE = c(mse_rf, mse_xgb, mse_lstm),\n",
        "#  RMSE = c(rmse_rf, rmse_xgb, rmse_lstm),\n",
        "#  MAE = c(mae_rf, mae_xgb, mae_lstm),\n",
        "#  R_squared = c(r_squared_rf, r_squared_xgb, r_squared_lstm)\n",
        "#)\n",
        "\n",
        "# Output SARIMA Metrics\n",
        "\n",
        "\n",
        "\n",
        "# Plot histograms for SARIMA predictions\n",
        "#hist(predictions_sarima, main = \"SARIMA Predictions\", xlab = \"Predicted Sales\", col = \"lightblue\")"
      ]
    },
    {
      "cell_type": "code",
      "execution_count": null,
      "metadata": {
        "id": "CUnBLjrkGDRU"
      },
      "outputs": [],
      "source": []
    },
    {
      "cell_type": "code",
      "execution_count": null,
      "metadata": {
        "id": "rpGAeJ09fpsT"
      },
      "outputs": [],
      "source": [
        "if (!requireNamespace(\"e1071\", quietly = TRUE)) {\n",
        "  install.packages(\"e1071\")  # Install the package if not already installed\n",
        "} else {\n",
        "  # If package is installed, print its version\n",
        "  package_version <- packageVersion(\"e1071\")\n",
        "  print(paste(\"e1071 package version:\", package_version))\n",
        "}"
      ]
    }
  ],
  "metadata": {
    "accelerator": "TPU",
    "colab": {
      "gpuType": "V28",
      "provenance": [],
      "include_colab_link": true
    },
    "kernelspec": {
      "display_name": "R",
      "name": "ir"
    },
    "language_info": {
      "name": "R"
    }
  },
  "nbformat": 4,
  "nbformat_minor": 0
}